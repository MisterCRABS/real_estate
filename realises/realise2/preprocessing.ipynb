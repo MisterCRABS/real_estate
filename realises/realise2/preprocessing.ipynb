{
 "cells": [
  {
   "cell_type": "markdown",
   "id": "1d50f94c",
   "metadata": {},
   "source": [
    "# Релиз 2.0 Обработка данных"
   ]
  },
  {
   "cell_type": "code",
   "execution_count": 1,
   "id": "de0d92a2",
   "metadata": {},
   "outputs": [],
   "source": [
    "import pandas as pd\n",
    "import numpy as np \n",
    "import re"
   ]
  },
  {
   "cell_type": "markdown",
   "id": "c06958ef",
   "metadata": {},
   "source": [
    "Считываем CSV файл и отображаем все колонки DataFrame."
   ]
  },
  {
   "cell_type": "code",
   "execution_count": 2,
   "id": "f463c969",
   "metadata": {},
   "outputs": [],
   "source": [
    "df=pd.read_csv('~/real_estate/data/_data.csv', index_col=0)\n",
    "pd.set_option('display.max_columns', None)\n",
    "pd.reset_option('display.max_colwidth')\n",
    "pd.set_option('display.float_format', '{:.2f}'.format)\n"
   ]
  },
  {
   "cell_type": "markdown",
   "id": "5722e28e",
   "metadata": {},
   "source": [
    "Удаляем все адреса не относящиеся к москве."
   ]
  },
  {
   "cell_type": "code",
   "execution_count": 3,
   "id": "b418b387",
   "metadata": {},
   "outputs": [],
   "source": [
    "df0=df[df['Адрес'].str.contains('Москва', case=False)].copy()"
   ]
  },
  {
   "cell_type": "markdown",
   "id": "585257f2",
   "metadata": {},
   "source": [
    "Разделение столбца \"Цена\" на категории."
   ]
  },
  {
   "cell_type": "code",
   "execution_count": 4,
   "id": "85f8eab9",
   "metadata": {},
   "outputs": [],
   "source": [
    "df1 = df0.copy()\n",
    "df1['Цена'] = df1['Цена'].transform(lambda x: x.split(','))\n",
    "df1['price'] = df1['Цена'].transform(lambda x: next((i for i in x if 'месяц' in i), np.nan))\n",
    "df1['utility_payments'] = df1['Цена'].transform(lambda x: next((i for i in x if 'Сумма' in i), np.nan))\n",
    "df1['deposit'] = df1['Цена'].transform(lambda x: next((i for i in x if 'Залог' in i), np.nan))\n",
    "df1['public_utilities'] = df1['Цена'].transform(lambda x: next((i for i in x if 'Коммунальные' in i), np.nan))\n",
    "df1['lease_term'] = df1['Цена'].transform(lambda x: next((i for i in x if 'Срок' in i), np.nan))\n",
    "df1['prepayment'] = df1['Цена'].transform(lambda x: next((i for i in x if 'Предоплата' in i), np.nan))\n"
   ]
  },
  {
   "cell_type": "markdown",
   "id": "b9600602",
   "metadata": {},
   "source": [
    "Конвертируем валюты и преобразуем в числовой тип"
   ]
  },
  {
   "cell_type": "code",
   "execution_count": 5,
   "id": "63218833",
   "metadata": {},
   "outputs": [],
   "source": [
    "def convert_currency(price_str):\n",
    "\n",
    "    price_str = str(price_str).lower()\n",
    "    if '$' in price_str in price_str:\n",
    "        return 82\n",
    "    elif '€' in price_str in price_str:\n",
    "        return 93\n",
    "    return 1\n",
    "\n",
    "\n",
    "df1['price'] = (\n",
    "    df1['price'].str.extract(r'([\\d\\s,]+\\.?\\d*)')[0] \n",
    "    .apply(pd.to_numeric, errors='coerce')\n",
    "    * df1['price'].apply(convert_currency)  \n",
    ")"
   ]
  },
  {
   "cell_type": "markdown",
   "id": "40409802",
   "metadata": {},
   "source": [
    "Разделение столбца \"Метро\" на категории."
   ]
  },
  {
   "cell_type": "code",
   "execution_count": 6,
   "id": "6f7529d9",
   "metadata": {},
   "outputs": [],
   "source": [
    "extracted = df1['Метро'].str.extract(r'(\\d+)\\sмин\\s(пешком|на машине)')     # изменила время метро, учитывает, на машине \n",
    "extracted.columns = ['minutes', 'transport']\n",
    "df1['time_metro'] = extracted.apply(\n",
    "    lambda row: int(row['minutes']) * 3 if row['transport'] == 'на машине' \n",
    "    else int(row['minutes']) if pd.notna(row['minutes']) \n",
    "    else np.nan,\n",
    "    axis=1)\n",
    "df1['metro'] = df1['Метро'].transform(lambda x: x.split('(')[0].strip() if pd.notna(x) else np.nan)\n"
   ]
  },
  {
   "cell_type": "markdown",
   "id": "a6d80e13",
   "metadata": {},
   "source": [
    "Форматирование столбца \"Площадь, м2\" и приведение к общей площади, так как остальные данные невозможно идентифицировать."
   ]
  },
  {
   "cell_type": "code",
   "execution_count": 7,
   "id": "1d69cffc",
   "metadata": {},
   "outputs": [],
   "source": [
    "df1['total_area'] = pd.to_numeric(df1['Площадь, м2'].str.extract(r'(\\d+\\.\\d+)')[0])"
   ]
  },
  {
   "cell_type": "markdown",
   "id": "0e355564",
   "metadata": {},
   "source": [
    "Разделение столбца \"Дом\" на категории"
   ]
  },
  {
   "cell_type": "code",
   "execution_count": 8,
   "id": "306dc227",
   "metadata": {},
   "outputs": [],
   "source": [
    "df1['floor'] = df1['Дом'].transform(lambda x: x.split(',')[0].split('/')[0])\n",
    "df1['all_floor'] = df1['Дом'].transform(lambda x: x.split(',')[0].split('/')[1])\n",
    "df1['house'] = df1['Дом'].transform(       # изменила тут при преобразоании вначале был пробел\n",
    "    lambda x: x.split(',')[1].strip() if len(x.split(',')) > 1 else np.nan\n",
    ")\n",
    "df1['floor'] = pd.to_numeric(df1['floor'], errors='coerce')\n",
    "df1['all_floor'] = pd.to_numeric(df1['all_floor'], errors='coerce')"
   ]
  },
  {
   "cell_type": "markdown",
   "id": "68627a79",
   "metadata": {},
   "source": [
    "Приведение колонки \"Количество комнат\" к числовому значению и удаление неинформативного материала."
   ]
  },
  {
   "cell_type": "code",
   "execution_count": 9,
   "id": "95e403d0",
   "metadata": {},
   "outputs": [],
   "source": [
    "df1['rooms'] = pd.to_numeric(df1['Количество комнат'].str.extract(r'(\\d+)')[0], errors='coerce')"
   ]
  },
  {
   "cell_type": "markdown",
   "id": "af539e9d",
   "metadata": {},
   "source": [
    "Приводим колонку время до метро к числовому значению"
   ]
  },
  {
   "cell_type": "code",
   "execution_count": 10,
   "id": "a3d9b9ac",
   "metadata": {},
   "outputs": [],
   "source": [
    "df1['time_metro'] = pd.to_numeric(df1['time_metro'], errors='coerce')"
   ]
  },
  {
   "cell_type": "markdown",
   "id": "e172964f",
   "metadata": {},
   "source": [
    "Удаление всех столбцов повторяющих данные, не несущих информативносли или же не идентифицириумых."
   ]
  },
  {
   "cell_type": "code",
   "execution_count": 11,
   "id": "917e201b",
   "metadata": {},
   "outputs": [
    {
     "data": {
      "text/html": [
       "<div>\n",
       "<style scoped>\n",
       "    .dataframe tbody tr th:only-of-type {\n",
       "        vertical-align: middle;\n",
       "    }\n",
       "\n",
       "    .dataframe tbody tr th {\n",
       "        vertical-align: top;\n",
       "    }\n",
       "\n",
       "    .dataframe thead th {\n",
       "        text-align: right;\n",
       "    }\n",
       "</style>\n",
       "<table border=\"1\" class=\"dataframe\">\n",
       "  <thead>\n",
       "    <tr style=\"text-align: right;\">\n",
       "      <th></th>\n",
       "      <th>ID  объявления</th>\n",
       "      <th>Парковка</th>\n",
       "      <th>Ремонт</th>\n",
       "      <th>Балкон</th>\n",
       "      <th>Окна</th>\n",
       "      <th>Санузел</th>\n",
       "      <th>Можно с детьми/животными</th>\n",
       "      <th>Лифт</th>\n",
       "      <th>price</th>\n",
       "      <th>time_metro</th>\n",
       "      <th>metro</th>\n",
       "      <th>total_area</th>\n",
       "      <th>floor</th>\n",
       "      <th>all_floor</th>\n",
       "      <th>house</th>\n",
       "      <th>rooms</th>\n",
       "    </tr>\n",
       "  </thead>\n",
       "  <tbody>\n",
       "    <tr>\n",
       "      <th>0</th>\n",
       "      <td>271271157</td>\n",
       "      <td>подземная</td>\n",
       "      <td>Дизайнерский</td>\n",
       "      <td>NaN</td>\n",
       "      <td>NaN</td>\n",
       "      <td>NaN</td>\n",
       "      <td>Можно с детьми, Можно с животными</td>\n",
       "      <td>Пасс (4), Груз (1)</td>\n",
       "      <td>500000.00</td>\n",
       "      <td>9.00</td>\n",
       "      <td>м. Смоленская</td>\n",
       "      <td>200.00</td>\n",
       "      <td>5</td>\n",
       "      <td>16</td>\n",
       "      <td>Монолитный</td>\n",
       "      <td>4.00</td>\n",
       "    </tr>\n",
       "    <tr>\n",
       "      <th>1</th>\n",
       "      <td>271634126</td>\n",
       "      <td>подземная</td>\n",
       "      <td>Дизайнерский</td>\n",
       "      <td>NaN</td>\n",
       "      <td>На улицу и двор</td>\n",
       "      <td>Совмещенный (2), Раздельный (1)</td>\n",
       "      <td>Можно с детьми</td>\n",
       "      <td>Пасс (1), Груз (1)</td>\n",
       "      <td>500000.00</td>\n",
       "      <td>8.00</td>\n",
       "      <td>м. Смоленская</td>\n",
       "      <td>198.00</td>\n",
       "      <td>5</td>\n",
       "      <td>16</td>\n",
       "      <td>Монолитно-кирпичный</td>\n",
       "      <td>4.00</td>\n",
       "    </tr>\n",
       "    <tr>\n",
       "      <th>2</th>\n",
       "      <td>271173086</td>\n",
       "      <td>подземная</td>\n",
       "      <td>Евроремонт</td>\n",
       "      <td>NaN</td>\n",
       "      <td>На улицу и двор</td>\n",
       "      <td>Совмещенный (3)</td>\n",
       "      <td>Можно с детьми</td>\n",
       "      <td>Пасс (1)</td>\n",
       "      <td>500000.00</td>\n",
       "      <td>7.00</td>\n",
       "      <td>м. Смоленская</td>\n",
       "      <td>200.00</td>\n",
       "      <td>5</td>\n",
       "      <td>16</td>\n",
       "      <td>NaN</td>\n",
       "      <td>4.00</td>\n",
       "    </tr>\n",
       "    <tr>\n",
       "      <th>3</th>\n",
       "      <td>272197456</td>\n",
       "      <td>подземная</td>\n",
       "      <td>Евроремонт</td>\n",
       "      <td>NaN</td>\n",
       "      <td>На улицу и двор</td>\n",
       "      <td>Совмещенный (3)</td>\n",
       "      <td>Можно с животными</td>\n",
       "      <td>Пасс (1)</td>\n",
       "      <td>400000.00</td>\n",
       "      <td>3.00</td>\n",
       "      <td>м. Смоленская</td>\n",
       "      <td>170.00</td>\n",
       "      <td>5</td>\n",
       "      <td>6</td>\n",
       "      <td>NaN</td>\n",
       "      <td>4.00</td>\n",
       "    </tr>\n",
       "    <tr>\n",
       "      <th>4</th>\n",
       "      <td>273614615</td>\n",
       "      <td>NaN</td>\n",
       "      <td>Евроремонт</td>\n",
       "      <td>NaN</td>\n",
       "      <td>На улицу и двор</td>\n",
       "      <td>Совмещенный (2)</td>\n",
       "      <td>NaN</td>\n",
       "      <td>Пасс (1), Груз (1)</td>\n",
       "      <td>225000.00</td>\n",
       "      <td>7.00</td>\n",
       "      <td>м. Арбатская</td>\n",
       "      <td>58.00</td>\n",
       "      <td>12</td>\n",
       "      <td>26</td>\n",
       "      <td>Панельный</td>\n",
       "      <td>2.00</td>\n",
       "    </tr>\n",
       "  </tbody>\n",
       "</table>\n",
       "</div>"
      ],
      "text/plain": [
       "   ID  объявления   Парковка        Ремонт Балкон             Окна  \\\n",
       "0       271271157  подземная  Дизайнерский    NaN              NaN   \n",
       "1       271634126  подземная  Дизайнерский    NaN  На улицу и двор   \n",
       "2       271173086  подземная    Евроремонт    NaN  На улицу и двор   \n",
       "3       272197456  подземная    Евроремонт    NaN  На улицу и двор   \n",
       "4       273614615        NaN    Евроремонт    NaN  На улицу и двор   \n",
       "\n",
       "                           Санузел           Можно с детьми/животными  \\\n",
       "0                              NaN  Можно с детьми, Можно с животными   \n",
       "1  Совмещенный (2), Раздельный (1)                     Можно с детьми   \n",
       "2                  Совмещенный (3)                     Можно с детьми   \n",
       "3                  Совмещенный (3)                  Можно с животными   \n",
       "4                  Совмещенный (2)                                NaN   \n",
       "\n",
       "                 Лифт     price  time_metro          metro  total_area  floor  \\\n",
       "0  Пасс (4), Груз (1) 500000.00        9.00  м. Смоленская      200.00      5   \n",
       "1  Пасс (1), Груз (1) 500000.00        8.00  м. Смоленская      198.00      5   \n",
       "2            Пасс (1) 500000.00        7.00  м. Смоленская      200.00      5   \n",
       "3            Пасс (1) 400000.00        3.00  м. Смоленская      170.00      5   \n",
       "4  Пасс (1), Груз (1) 225000.00        7.00   м. Арбатская       58.00     12   \n",
       "\n",
       "   all_floor                house  rooms  \n",
       "0         16           Монолитный   4.00  \n",
       "1         16  Монолитно-кирпичный   4.00  \n",
       "2         16                  NaN   4.00  \n",
       "3          6                  NaN   4.00  \n",
       "4         26            Панельный   2.00  "
      ]
     },
     "execution_count": 11,
     "metadata": {},
     "output_type": "execute_result"
    }
   ],
   "source": [
    "df1.drop(columns= ['Название ЖК', 'Дом', 'Дополнительно', 'prepayment', 'utility_payments', 'lease_term', 'deposit', 'public_utilities', 'Количество комнат', 'Площадь, м2', 'Описание','Площадь комнат, м2', 'Мусоропровод', 'Метро', 'Высота потолков, м', 'Телефоны','Серия дома', 'Ссылка на объявление', 'Тип', 'Адрес', 'Цена'], inplace=True)\n",
    "df1.head()"
   ]
  },
  {
   "cell_type": "markdown",
   "id": "560dc8ed",
   "metadata": {},
   "source": [
    "Переименовываем столбцы по стандарту \n"
   ]
  },
  {
   "cell_type": "code",
   "execution_count": 12,
   "id": "e0f97377",
   "metadata": {},
   "outputs": [
    {
     "data": {
      "text/html": [
       "<div>\n",
       "<style scoped>\n",
       "    .dataframe tbody tr th:only-of-type {\n",
       "        vertical-align: middle;\n",
       "    }\n",
       "\n",
       "    .dataframe tbody tr th {\n",
       "        vertical-align: top;\n",
       "    }\n",
       "\n",
       "    .dataframe thead th {\n",
       "        text-align: right;\n",
       "    }\n",
       "</style>\n",
       "<table border=\"1\" class=\"dataframe\">\n",
       "  <thead>\n",
       "    <tr style=\"text-align: right;\">\n",
       "      <th></th>\n",
       "      <th>ID</th>\n",
       "      <th>parking</th>\n",
       "      <th>renovation</th>\n",
       "      <th>balcony</th>\n",
       "      <th>windows</th>\n",
       "      <th>bathroom</th>\n",
       "      <th>children_pets_allowed</th>\n",
       "      <th>elevator</th>\n",
       "      <th>price</th>\n",
       "      <th>time_metro</th>\n",
       "      <th>metro</th>\n",
       "      <th>total_area</th>\n",
       "      <th>floor</th>\n",
       "      <th>all_floor</th>\n",
       "      <th>house</th>\n",
       "      <th>rooms</th>\n",
       "    </tr>\n",
       "  </thead>\n",
       "  <tbody>\n",
       "    <tr>\n",
       "      <th>0</th>\n",
       "      <td>271271157</td>\n",
       "      <td>подземная</td>\n",
       "      <td>Дизайнерский</td>\n",
       "      <td>NaN</td>\n",
       "      <td>NaN</td>\n",
       "      <td>NaN</td>\n",
       "      <td>Можно с детьми, Можно с животными</td>\n",
       "      <td>Пасс (4), Груз (1)</td>\n",
       "      <td>500000.00</td>\n",
       "      <td>9.00</td>\n",
       "      <td>м. Смоленская</td>\n",
       "      <td>200.00</td>\n",
       "      <td>5</td>\n",
       "      <td>16</td>\n",
       "      <td>Монолитный</td>\n",
       "      <td>4.00</td>\n",
       "    </tr>\n",
       "    <tr>\n",
       "      <th>1</th>\n",
       "      <td>271634126</td>\n",
       "      <td>подземная</td>\n",
       "      <td>Дизайнерский</td>\n",
       "      <td>NaN</td>\n",
       "      <td>На улицу и двор</td>\n",
       "      <td>Совмещенный (2), Раздельный (1)</td>\n",
       "      <td>Можно с детьми</td>\n",
       "      <td>Пасс (1), Груз (1)</td>\n",
       "      <td>500000.00</td>\n",
       "      <td>8.00</td>\n",
       "      <td>м. Смоленская</td>\n",
       "      <td>198.00</td>\n",
       "      <td>5</td>\n",
       "      <td>16</td>\n",
       "      <td>Монолитно-кирпичный</td>\n",
       "      <td>4.00</td>\n",
       "    </tr>\n",
       "    <tr>\n",
       "      <th>2</th>\n",
       "      <td>271173086</td>\n",
       "      <td>подземная</td>\n",
       "      <td>Евроремонт</td>\n",
       "      <td>NaN</td>\n",
       "      <td>На улицу и двор</td>\n",
       "      <td>Совмещенный (3)</td>\n",
       "      <td>Можно с детьми</td>\n",
       "      <td>Пасс (1)</td>\n",
       "      <td>500000.00</td>\n",
       "      <td>7.00</td>\n",
       "      <td>м. Смоленская</td>\n",
       "      <td>200.00</td>\n",
       "      <td>5</td>\n",
       "      <td>16</td>\n",
       "      <td>NaN</td>\n",
       "      <td>4.00</td>\n",
       "    </tr>\n",
       "    <tr>\n",
       "      <th>3</th>\n",
       "      <td>272197456</td>\n",
       "      <td>подземная</td>\n",
       "      <td>Евроремонт</td>\n",
       "      <td>NaN</td>\n",
       "      <td>На улицу и двор</td>\n",
       "      <td>Совмещенный (3)</td>\n",
       "      <td>Можно с животными</td>\n",
       "      <td>Пасс (1)</td>\n",
       "      <td>400000.00</td>\n",
       "      <td>3.00</td>\n",
       "      <td>м. Смоленская</td>\n",
       "      <td>170.00</td>\n",
       "      <td>5</td>\n",
       "      <td>6</td>\n",
       "      <td>NaN</td>\n",
       "      <td>4.00</td>\n",
       "    </tr>\n",
       "    <tr>\n",
       "      <th>4</th>\n",
       "      <td>273614615</td>\n",
       "      <td>NaN</td>\n",
       "      <td>Евроремонт</td>\n",
       "      <td>NaN</td>\n",
       "      <td>На улицу и двор</td>\n",
       "      <td>Совмещенный (2)</td>\n",
       "      <td>NaN</td>\n",
       "      <td>Пасс (1), Груз (1)</td>\n",
       "      <td>225000.00</td>\n",
       "      <td>7.00</td>\n",
       "      <td>м. Арбатская</td>\n",
       "      <td>58.00</td>\n",
       "      <td>12</td>\n",
       "      <td>26</td>\n",
       "      <td>Панельный</td>\n",
       "      <td>2.00</td>\n",
       "    </tr>\n",
       "  </tbody>\n",
       "</table>\n",
       "</div>"
      ],
      "text/plain": [
       "          ID    parking    renovation balcony          windows  \\\n",
       "0  271271157  подземная  Дизайнерский     NaN              NaN   \n",
       "1  271634126  подземная  Дизайнерский     NaN  На улицу и двор   \n",
       "2  271173086  подземная    Евроремонт     NaN  На улицу и двор   \n",
       "3  272197456  подземная    Евроремонт     NaN  На улицу и двор   \n",
       "4  273614615        NaN    Евроремонт     NaN  На улицу и двор   \n",
       "\n",
       "                          bathroom              children_pets_allowed  \\\n",
       "0                              NaN  Можно с детьми, Можно с животными   \n",
       "1  Совмещенный (2), Раздельный (1)                     Можно с детьми   \n",
       "2                  Совмещенный (3)                     Можно с детьми   \n",
       "3                  Совмещенный (3)                  Можно с животными   \n",
       "4                  Совмещенный (2)                                NaN   \n",
       "\n",
       "             elevator     price  time_metro          metro  total_area  floor  \\\n",
       "0  Пасс (4), Груз (1) 500000.00        9.00  м. Смоленская      200.00      5   \n",
       "1  Пасс (1), Груз (1) 500000.00        8.00  м. Смоленская      198.00      5   \n",
       "2            Пасс (1) 500000.00        7.00  м. Смоленская      200.00      5   \n",
       "3            Пасс (1) 400000.00        3.00  м. Смоленская      170.00      5   \n",
       "4  Пасс (1), Груз (1) 225000.00        7.00   м. Арбатская       58.00     12   \n",
       "\n",
       "   all_floor                house  rooms  \n",
       "0         16           Монолитный   4.00  \n",
       "1         16  Монолитно-кирпичный   4.00  \n",
       "2         16                  NaN   4.00  \n",
       "3          6                  NaN   4.00  \n",
       "4         26            Панельный   2.00  "
      ]
     },
     "execution_count": 12,
     "metadata": {},
     "output_type": "execute_result"
    }
   ],
   "source": [
    "column_rename = {\n",
    "    'ID  объявления': 'ID',\n",
    "    'Парковка': 'parking',\n",
    "    'Ремонт': 'renovation',\n",
    "    'Балкон': 'balcony',\n",
    "    'Окна': 'windows',\n",
    "    'Санузел': 'bathroom',\n",
    "    'Можно с детьми/животными': 'children_pets_allowed',\n",
    "    'Лифт': 'elevator',\n",
    "}\n",
    "df1 = df1.rename(columns=column_rename)\n",
    "df1.head()"
   ]
  },
  {
   "cell_type": "markdown",
   "id": "ab02f630",
   "metadata": {},
   "source": [
    "Работаем с NaN значениями"
   ]
  },
  {
   "cell_type": "code",
   "execution_count": 13,
   "id": "829593a2",
   "metadata": {},
   "outputs": [
    {
     "data": {
      "text/html": [
       "<div>\n",
       "<style scoped>\n",
       "    .dataframe tbody tr th:only-of-type {\n",
       "        vertical-align: middle;\n",
       "    }\n",
       "\n",
       "    .dataframe tbody tr th {\n",
       "        vertical-align: top;\n",
       "    }\n",
       "\n",
       "    .dataframe thead th {\n",
       "        text-align: right;\n",
       "    }\n",
       "</style>\n",
       "<table border=\"1\" class=\"dataframe\">\n",
       "  <thead>\n",
       "    <tr style=\"text-align: right;\">\n",
       "      <th></th>\n",
       "      <th>0</th>\n",
       "    </tr>\n",
       "  </thead>\n",
       "  <tbody>\n",
       "    <tr>\n",
       "      <th>ID</th>\n",
       "      <td>0</td>\n",
       "    </tr>\n",
       "    <tr>\n",
       "      <th>parking</th>\n",
       "      <td>11174</td>\n",
       "    </tr>\n",
       "    <tr>\n",
       "      <th>renovation</th>\n",
       "      <td>2463</td>\n",
       "    </tr>\n",
       "    <tr>\n",
       "      <th>balcony</th>\n",
       "      <td>6630</td>\n",
       "    </tr>\n",
       "    <tr>\n",
       "      <th>windows</th>\n",
       "      <td>5150</td>\n",
       "    </tr>\n",
       "    <tr>\n",
       "      <th>bathroom</th>\n",
       "      <td>2041</td>\n",
       "    </tr>\n",
       "    <tr>\n",
       "      <th>children_pets_allowed</th>\n",
       "      <td>4915</td>\n",
       "    </tr>\n",
       "    <tr>\n",
       "      <th>elevator</th>\n",
       "      <td>4192</td>\n",
       "    </tr>\n",
       "    <tr>\n",
       "      <th>price</th>\n",
       "      <td>0</td>\n",
       "    </tr>\n",
       "    <tr>\n",
       "      <th>time_metro</th>\n",
       "      <td>884</td>\n",
       "    </tr>\n",
       "    <tr>\n",
       "      <th>metro</th>\n",
       "      <td>346</td>\n",
       "    </tr>\n",
       "    <tr>\n",
       "      <th>total_area</th>\n",
       "      <td>0</td>\n",
       "    </tr>\n",
       "    <tr>\n",
       "      <th>floor</th>\n",
       "      <td>0</td>\n",
       "    </tr>\n",
       "    <tr>\n",
       "      <th>all_floor</th>\n",
       "      <td>0</td>\n",
       "    </tr>\n",
       "    <tr>\n",
       "      <th>house</th>\n",
       "      <td>2971</td>\n",
       "    </tr>\n",
       "    <tr>\n",
       "      <th>rooms</th>\n",
       "      <td>535</td>\n",
       "    </tr>\n",
       "  </tbody>\n",
       "</table>\n",
       "</div>"
      ],
      "text/plain": [
       "                           0\n",
       "ID                         0\n",
       "parking                11174\n",
       "renovation              2463\n",
       "balcony                 6630\n",
       "windows                 5150\n",
       "bathroom                2041\n",
       "children_pets_allowed   4915\n",
       "elevator                4192\n",
       "price                      0\n",
       "time_metro               884\n",
       "metro                    346\n",
       "total_area                 0\n",
       "floor                      0\n",
       "all_floor                  0\n",
       "house                   2971\n",
       "rooms                    535"
      ]
     },
     "execution_count": 13,
     "metadata": {},
     "output_type": "execute_result"
    }
   ],
   "source": [
    "df1.isna().sum().to_frame()\n"
   ]
  },
  {
   "cell_type": "markdown",
   "id": "93f1553d",
   "metadata": {},
   "source": [
    "NaN в количествах комнат заменяет на 0, так как это студия (проаналировали несколько ссылок в датасете)"
   ]
  },
  {
   "cell_type": "code",
   "execution_count": 14,
   "id": "0eb384b9",
   "metadata": {},
   "outputs": [
    {
     "data": {
      "text/plain": [
       "rooms\n",
       "2.00    7407\n",
       "1.00    6655\n",
       "3.00    3668\n",
       "4.00    1011\n",
       "0.00     535\n",
       "5.00     333\n",
       "6.00     128\n",
       "Name: count, dtype: int64"
      ]
     },
     "execution_count": 14,
     "metadata": {},
     "output_type": "execute_result"
    }
   ],
   "source": [
    "df1['rooms'] = df1['rooms'].fillna(0)\n",
    "df1['rooms'].value_counts()"
   ]
  },
  {
   "cell_type": "markdown",
   "id": "a42821d1",
   "metadata": {},
   "source": [
    "NaN в балконах, парковках и лифтах заменяем на 'отсутствует', так как в данном контексте это и означает"
   ]
  },
  {
   "cell_type": "code",
   "execution_count": 15,
   "id": "808fd602",
   "metadata": {},
   "outputs": [],
   "source": [
    "df1['parking'] = df1['parking'].fillna('отсутсвует').astype('category')"
   ]
  },
  {
   "cell_type": "code",
   "execution_count": 16,
   "id": "c0839f33",
   "metadata": {},
   "outputs": [],
   "source": [
    "df1['elevator'] = df1['elevator'].fillna('отсутсвует').astype('category')"
   ]
  },
  {
   "cell_type": "code",
   "execution_count": 17,
   "id": "1746bdea",
   "metadata": {},
   "outputs": [],
   "source": [
    "df1['balcony'] = df1['balcony'].fillna('отсутсвует').astype('category')"
   ]
  },
  {
   "cell_type": "markdown",
   "id": "428f557e",
   "metadata": {},
   "source": [
    "- Упростили данные (объединили \"Без ремонта (136) с \"Косметическим\")\n",
    "\n",
    "- Заполняем пропуски самым популярным типом ремонта для аналогичных по цене квартир"
   ]
  },
  {
   "cell_type": "code",
   "execution_count": 18,
   "id": "c9102e05",
   "metadata": {},
   "outputs": [
    {
     "data": {
      "text/plain": [
       "renovation\n",
       "Косметический   0.37\n",
       "Евроремонт      0.35\n",
       "Дизайнерский    0.14\n",
       "NaN             0.12\n",
       "Без ремонта     0.01\n",
       "Name: proportion, dtype: float64"
      ]
     },
     "execution_count": 18,
     "metadata": {},
     "output_type": "execute_result"
    }
   ],
   "source": [
    "df1['renovation'].value_counts(dropna=False, normalize=True)   # какие варианты ремонта есть в данных и как часто они встречаются (в процентах)"
   ]
  },
  {
   "cell_type": "code",
   "execution_count": 19,
   "id": "3cb2380a",
   "metadata": {},
   "outputs": [
    {
     "name": "stderr",
     "output_type": "stream",
     "text": [
      "/tmp/ipykernel_15403/2090160448.py:4: FutureWarning: The default of observed=False is deprecated and will be changed to True in a future version of pandas. Pass observed=False to retain current behavior or observed=True to adopt the future default and silence this warning.\n",
      "  df1.groupby(pd.qcut(df1['price'], 5))['renovation']\n"
     ]
    },
    {
     "data": {
      "text/plain": [
       "renovation\n",
       "Косметический   0.42\n",
       "Евроремонт      0.41\n",
       "Дизайнерский    0.17\n",
       "Name: proportion, dtype: float64"
      ]
     },
     "execution_count": 19,
     "metadata": {},
     "output_type": "execute_result"
    }
   ],
   "source": [
    "df1['renovation'] = df1['renovation'].replace('Без ремонта', 'Косметический')\n",
    "\n",
    "df1['renovation'] = (\n",
    "    df1.groupby(pd.qcut(df1['price'], 5))['renovation']\n",
    "    .transform(lambda x: x.fillna(x.mode()[0] if not x.mode().empty else np.nan))\n",
    ")\n",
    "\n",
    "df1['renovation'].value_counts(dropna=False, normalize=True)"
   ]
  },
  {
   "cell_type": "markdown",
   "id": "04f1385a",
   "metadata": {},
   "source": [
    "Заполняем NaN в столбце windows на основе средней цены квартиры. Идея: \"Похожие по цене квартиры обычно имеют одинаковый тип окон\""
   ]
  },
  {
   "cell_type": "code",
   "execution_count": 20,
   "id": "714693ab",
   "metadata": {},
   "outputs": [
    {
     "data": {
      "text/plain": [
       "windows\n",
       "Во двор            9708\n",
       "На улицу и двор    2762\n",
       "На улицу           2117\n",
       "Name: count, dtype: int64"
      ]
     },
     "execution_count": 20,
     "metadata": {},
     "output_type": "execute_result"
    }
   ],
   "source": [
    "df1['windows'].value_counts()"
   ]
  },
  {
   "cell_type": "code",
   "execution_count": 21,
   "id": "1605d7a6",
   "metadata": {},
   "outputs": [
    {
     "data": {
      "text/plain": [
       "windows\n",
       "Во двор            12657\n",
       "На улицу и двор     4150\n",
       "На улицу            2930\n",
       "Name: count, dtype: int64"
      ]
     },
     "execution_count": 21,
     "metadata": {},
     "output_type": "execute_result"
    }
   ],
   "source": [
    "avg_prices = df1.groupby('windows')['price'].median().to_dict()\n",
    "\n",
    "def fill_by_price(row):\n",
    "    if pd.isna(row['windows']):\n",
    "        closest_window = min(avg_prices.keys(), key=lambda x: abs(avg_prices[x] - row['price']))\n",
    "        return closest_window\n",
    "    return row['windows']\n",
    "\n",
    "df1['windows'] = df1.apply(fill_by_price, axis=1)\n",
    "df1['windows'].value_counts()"
   ]
  },
  {
   "cell_type": "markdown",
   "id": "1b7c9fd2",
   "metadata": {},
   "source": [
    "Заполняем NaN в столбце bathroom с учетом количеством комнат"
   ]
  },
  {
   "cell_type": "code",
   "execution_count": 22,
   "id": "5aed91cf",
   "metadata": {},
   "outputs": [],
   "source": [
    "def fill_group(group):\n",
    "\n",
    "    mode_values = group.mode()\n",
    "    if not mode_values.empty:\n",
    "        return group.fillna(mode_values.iloc[0])\n",
    "    return group\n",
    "\n",
    "\n",
    "df1['bathroom'] = df1.groupby('rooms')['bathroom'].transform(fill_group)\n",
    "\n",
    "\n",
    "if df1['bathroom'].isna().any():\n",
    "    overall_mode = df1['bathroom'].mode()\n",
    "    if not overall_mode.empty:\n",
    "        df1['bathroom'] = df1['bathroom'].fillna(overall_mode.iloc[0])"
   ]
  },
  {
   "cell_type": "markdown",
   "id": "53d2c7fd",
   "metadata": {},
   "source": [
    "Заполняем NaN в столбце house по этажам"
   ]
  },
  {
   "cell_type": "code",
   "execution_count": 23,
   "id": "3428da54",
   "metadata": {},
   "outputs": [
    {
     "data": {
      "text/plain": [
       "house\n",
       "Панельный              6679\n",
       "Кирпичный              3696\n",
       "Монолитный             3615\n",
       "Блочный                1689\n",
       "Монолитно-кирпичный     872\n",
       "Сталинский              141\n",
       "старый фонд              68\n",
       "Деревянный                5\n",
       "Щитовой                   1\n",
       "Name: count, dtype: int64"
      ]
     },
     "execution_count": 23,
     "metadata": {},
     "output_type": "execute_result"
    }
   ],
   "source": [
    "df1['house'].value_counts()"
   ]
  },
  {
   "cell_type": "code",
   "execution_count": 24,
   "id": "ddd0a883",
   "metadata": {},
   "outputs": [
    {
     "data": {
      "text/plain": [
       "house\n",
       "Панельный              7418\n",
       "Монолитный             3882\n",
       "Кирпичный              3696\n",
       "Блочный                1689\n",
       "Монолитно-кирпичный    1663\n",
       "Сталинский             1189\n",
       "старый фонд             193\n",
       "Деревянный                6\n",
       "Щитовой                   1\n",
       "Name: count, dtype: int64"
      ]
     },
     "execution_count": 24,
     "metadata": {},
     "output_type": "execute_result"
    }
   ],
   "source": [
    "FLOOR_RULES = {\n",
    "    'Деревянный': (1, 1),        \n",
    "    'Щитовой': (1, 1),           \n",
    "    'старый фонд': (1, 4),       \n",
    "    'Сталинский': (2, 9),        \n",
    "    'Кирпичный': (2, 5),       \n",
    "    'Блочный': (5, 9),          \n",
    "    'Панельный': (5, 16),       \n",
    "    'Монолитно-кирпичный': (10, 25),  \n",
    "    'Монолитный': (17, 100)     \n",
    "}\n",
    "\n",
    "def fill_house_by_floors(df):\n",
    "\n",
    "    df_filled = df.copy()\n",
    "    \n",
    " \n",
    "    for house_type, (min_floor, max_floor) in FLOOR_RULES.items():\n",
    "        mask = (\n",
    "            df_filled['house'].isna() & \n",
    "            df_filled['all_floor'].between(min_floor, max_floor)\n",
    "        )\n",
    "        \n",
    "\n",
    "        if house_type in ('Деревянный', 'Щитовой'):\n",
    "            available = min(mask.sum(), (df_filled['all_floor'] == 1).sum())\n",
    "            if available > 0:\n",
    "                fill_idx = df_filled[mask].head(available).index\n",
    "                df_filled.loc[fill_idx, 'house'] = house_type\n",
    "        else:\n",
    "            df_filled.loc[mask, 'house'] = house_type\n",
    "    \n",
    "\n",
    "    if df_filled['house'].isna().any():\n",
    "        house_dist = df_filled['house'].value_counts(normalize=True)\n",
    "        fill_values = np.random.choice(\n",
    "            house_dist.index,\n",
    "            size=df_filled['house'].isna().sum(),\n",
    "            p=house_dist.values\n",
    "        )\n",
    "        df_filled.loc[df_filled['house'].isna(), 'house'] = fill_values\n",
    "    \n",
    "    return df_filled\n",
    "\n",
    "\n",
    "df1 = fill_house_by_floors(df1)\n",
    "\n",
    "\n",
    "\n",
    "df1['house'].value_counts()"
   ]
  },
  {
   "cell_type": "markdown",
   "id": "a266ab38",
   "metadata": {},
   "source": [
    "Заполняем NaN у children_pets_allowed (отсутсвие данных это есть требуемое значение)"
   ]
  },
  {
   "cell_type": "code",
   "execution_count": 25,
   "id": "78da3287",
   "metadata": {},
   "outputs": [],
   "source": [
    "df1['children_pets_allowed'] = df1['children_pets_allowed'].fillna('ни то и ни то')"
   ]
  },
  {
   "cell_type": "markdown",
   "id": "e6c4b143",
   "metadata": {},
   "source": [
    "Заполняем пропуски у метро"
   ]
  },
  {
   "cell_type": "code",
   "execution_count": 26,
   "id": "2ad3df9b",
   "metadata": {},
   "outputs": [
    {
     "name": "stderr",
     "output_type": "stream",
     "text": [
      "/tmp/ipykernel_15403/2992113798.py:3: FutureWarning: Downcasting object dtype arrays on .fillna, .ffill, .bfill is deprecated and will change in a future version. Call result.infer_objects(copy=False) instead. To opt-in to the future behavior, set `pd.set_option('future.no_silent_downcasting', True)`\n",
      "  lambda x: x.fillna(x.mode()[0] if not x.mode().empty else np.nan)\n"
     ]
    },
    {
     "data": {
      "text/html": [
       "<div>\n",
       "<style scoped>\n",
       "    .dataframe tbody tr th:only-of-type {\n",
       "        vertical-align: middle;\n",
       "    }\n",
       "\n",
       "    .dataframe tbody tr th {\n",
       "        vertical-align: top;\n",
       "    }\n",
       "\n",
       "    .dataframe thead th {\n",
       "        text-align: right;\n",
       "    }\n",
       "</style>\n",
       "<table border=\"1\" class=\"dataframe\">\n",
       "  <thead>\n",
       "    <tr style=\"text-align: right;\">\n",
       "      <th></th>\n",
       "      <th>0</th>\n",
       "    </tr>\n",
       "  </thead>\n",
       "  <tbody>\n",
       "    <tr>\n",
       "      <th>ID</th>\n",
       "      <td>0</td>\n",
       "    </tr>\n",
       "    <tr>\n",
       "      <th>parking</th>\n",
       "      <td>0</td>\n",
       "    </tr>\n",
       "    <tr>\n",
       "      <th>renovation</th>\n",
       "      <td>0</td>\n",
       "    </tr>\n",
       "    <tr>\n",
       "      <th>balcony</th>\n",
       "      <td>0</td>\n",
       "    </tr>\n",
       "    <tr>\n",
       "      <th>windows</th>\n",
       "      <td>0</td>\n",
       "    </tr>\n",
       "    <tr>\n",
       "      <th>bathroom</th>\n",
       "      <td>0</td>\n",
       "    </tr>\n",
       "    <tr>\n",
       "      <th>children_pets_allowed</th>\n",
       "      <td>0</td>\n",
       "    </tr>\n",
       "    <tr>\n",
       "      <th>elevator</th>\n",
       "      <td>0</td>\n",
       "    </tr>\n",
       "    <tr>\n",
       "      <th>price</th>\n",
       "      <td>0</td>\n",
       "    </tr>\n",
       "    <tr>\n",
       "      <th>time_metro</th>\n",
       "      <td>884</td>\n",
       "    </tr>\n",
       "    <tr>\n",
       "      <th>metro</th>\n",
       "      <td>8</td>\n",
       "    </tr>\n",
       "    <tr>\n",
       "      <th>total_area</th>\n",
       "      <td>0</td>\n",
       "    </tr>\n",
       "    <tr>\n",
       "      <th>floor</th>\n",
       "      <td>0</td>\n",
       "    </tr>\n",
       "    <tr>\n",
       "      <th>all_floor</th>\n",
       "      <td>0</td>\n",
       "    </tr>\n",
       "    <tr>\n",
       "      <th>house</th>\n",
       "      <td>0</td>\n",
       "    </tr>\n",
       "    <tr>\n",
       "      <th>rooms</th>\n",
       "      <td>0</td>\n",
       "    </tr>\n",
       "  </tbody>\n",
       "</table>\n",
       "</div>"
      ],
      "text/plain": [
       "                         0\n",
       "ID                       0\n",
       "parking                  0\n",
       "renovation               0\n",
       "balcony                  0\n",
       "windows                  0\n",
       "bathroom                 0\n",
       "children_pets_allowed    0\n",
       "elevator                 0\n",
       "price                    0\n",
       "time_metro             884\n",
       "metro                    8\n",
       "total_area               0\n",
       "floor                    0\n",
       "all_floor                0\n",
       "house                    0\n",
       "rooms                    0"
      ]
     },
     "execution_count": 26,
     "metadata": {},
     "output_type": "execute_result"
    }
   ],
   "source": [
    "df1['metro'] = df1['metro'].replace('', np.nan)\n",
    "df1['metro'] = df1.groupby('price')['metro'].transform(\n",
    "    lambda x: x.fillna(x.mode()[0] if not x.mode().empty else np.nan)\n",
    ")\n",
    "df1.isna().sum().to_frame()"
   ]
  },
  {
   "cell_type": "markdown",
   "id": "613afebf",
   "metadata": {},
   "source": [
    "Заполним пропуски у время до метро"
   ]
  },
  {
   "cell_type": "code",
   "execution_count": 27,
   "id": "47e3b330",
   "metadata": {},
   "outputs": [
    {
     "data": {
      "text/plain": [
       "np.int64(9)"
      ]
     },
     "execution_count": 27,
     "metadata": {},
     "output_type": "execute_result"
    }
   ],
   "source": [
    "metro_time_avg = df1.dropna(subset=['metro']).groupby('metro')['time_metro'].median().to_dict()\n",
    "\n",
    "\n",
    "df1['time_metro'] = df1.apply(\n",
    "    lambda row: (\n",
    "        metro_time_avg.get(row['metro'], row['time_metro'])  \n",
    "        if pd.notna(row['metro'])\n",
    "        else row['time_metro'] \n",
    "    ),\n",
    "    axis=1\n",
    ")\n",
    "df1['time_metro'].isna().sum()"
   ]
  },
  {
   "cell_type": "code",
   "execution_count": 28,
   "id": "554f5716",
   "metadata": {},
   "outputs": [
    {
     "data": {
      "text/html": [
       "<div>\n",
       "<style scoped>\n",
       "    .dataframe tbody tr th:only-of-type {\n",
       "        vertical-align: middle;\n",
       "    }\n",
       "\n",
       "    .dataframe tbody tr th {\n",
       "        vertical-align: top;\n",
       "    }\n",
       "\n",
       "    .dataframe thead th {\n",
       "        text-align: right;\n",
       "    }\n",
       "</style>\n",
       "<table border=\"1\" class=\"dataframe\">\n",
       "  <thead>\n",
       "    <tr style=\"text-align: right;\">\n",
       "      <th></th>\n",
       "      <th>0</th>\n",
       "    </tr>\n",
       "  </thead>\n",
       "  <tbody>\n",
       "    <tr>\n",
       "      <th>ID</th>\n",
       "      <td>0</td>\n",
       "    </tr>\n",
       "    <tr>\n",
       "      <th>parking</th>\n",
       "      <td>0</td>\n",
       "    </tr>\n",
       "    <tr>\n",
       "      <th>renovation</th>\n",
       "      <td>0</td>\n",
       "    </tr>\n",
       "    <tr>\n",
       "      <th>balcony</th>\n",
       "      <td>0</td>\n",
       "    </tr>\n",
       "    <tr>\n",
       "      <th>windows</th>\n",
       "      <td>0</td>\n",
       "    </tr>\n",
       "    <tr>\n",
       "      <th>bathroom</th>\n",
       "      <td>0</td>\n",
       "    </tr>\n",
       "    <tr>\n",
       "      <th>children_pets_allowed</th>\n",
       "      <td>0</td>\n",
       "    </tr>\n",
       "    <tr>\n",
       "      <th>elevator</th>\n",
       "      <td>0</td>\n",
       "    </tr>\n",
       "    <tr>\n",
       "      <th>price</th>\n",
       "      <td>0</td>\n",
       "    </tr>\n",
       "    <tr>\n",
       "      <th>time_metro</th>\n",
       "      <td>0</td>\n",
       "    </tr>\n",
       "    <tr>\n",
       "      <th>metro</th>\n",
       "      <td>0</td>\n",
       "    </tr>\n",
       "    <tr>\n",
       "      <th>total_area</th>\n",
       "      <td>0</td>\n",
       "    </tr>\n",
       "    <tr>\n",
       "      <th>floor</th>\n",
       "      <td>0</td>\n",
       "    </tr>\n",
       "    <tr>\n",
       "      <th>all_floor</th>\n",
       "      <td>0</td>\n",
       "    </tr>\n",
       "    <tr>\n",
       "      <th>house</th>\n",
       "      <td>0</td>\n",
       "    </tr>\n",
       "    <tr>\n",
       "      <th>rooms</th>\n",
       "      <td>0</td>\n",
       "    </tr>\n",
       "  </tbody>\n",
       "</table>\n",
       "</div>"
      ],
      "text/plain": [
       "                       0\n",
       "ID                     0\n",
       "parking                0\n",
       "renovation             0\n",
       "balcony                0\n",
       "windows                0\n",
       "bathroom               0\n",
       "children_pets_allowed  0\n",
       "elevator               0\n",
       "price                  0\n",
       "time_metro             0\n",
       "metro                  0\n",
       "total_area             0\n",
       "floor                  0\n",
       "all_floor              0\n",
       "house                  0\n",
       "rooms                  0"
      ]
     },
     "execution_count": 28,
     "metadata": {},
     "output_type": "execute_result"
    }
   ],
   "source": [
    "mode_time = df1['time_metro'].mode()[0]\n",
    "\n",
    "df1['time_metro'] = df1['time_metro'].fillna(mode_time)\n",
    "\n",
    "mode_time = df1['metro'].mode()[0]\n",
    "\n",
    "df1['metro'] = df1['metro'].fillna(mode_time) \n",
    "\n",
    "df1.isna().sum().to_frame()"
   ]
  }
 ],
 "metadata": {
  "kernelspec": {
   "display_name": "study_env",
   "language": "python",
   "name": "python3"
  },
  "language_info": {
   "codemirror_mode": {
    "name": "ipython",
    "version": 3
   },
   "file_extension": ".py",
   "mimetype": "text/x-python",
   "name": "python",
   "nbconvert_exporter": "python",
   "pygments_lexer": "ipython3",
   "version": "3.12.9"
  }
 },
 "nbformat": 4,
 "nbformat_minor": 5
}
